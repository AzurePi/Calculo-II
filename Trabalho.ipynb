{
  "nbformat": 4,
  "nbformat_minor": 0,
  "metadata": {
    "colab": {
      "provenance": [],
      "collapsed_sections": [
        "cx2Vvt3cLBb5",
        "mqfo92Q2LKWU",
        "r2aw3rgqLP5t",
        "Wu64s0vdLkvN",
        "0tPhGRm7Lucl",
        "nXdUhyDrMYEW",
        "-ggNCVuAQC0n",
        "fhlmniPOQ4iF",
        "47PcvSolGfXs",
        "qhN9-rSTG3ot",
        "g3P9YT1cHEmd",
        "5z7VRF1GG75z"
      ],
      "private_outputs": true,
      "authorship_tag": "ABX9TyMRyRIrWeiS+hNoe633YN9X",
      "include_colab_link": true
    },
    "kernelspec": {
      "name": "python3",
      "display_name": "Python 3"
    },
    "language_info": {
      "name": "python"
    }
  },
  "cells": [
    {
      "cell_type": "markdown",
      "metadata": {
        "id": "view-in-github",
        "colab_type": "text"
      },
      "source": [
        "<a href=\"https://colab.research.google.com/github/AzurePi/Calculo-II/blob/main/Trabalho.ipynb\" target=\"_parent\"><img src=\"https://colab.research.google.com/assets/colab-badge.svg\" alt=\"Open In Colab\"/></a>"
      ]
    },
    {
      "cell_type": "code",
      "source": [
        "from numpy import *\n",
        "import math\n",
        "\n",
        "import matplotlib.pyplot as plt\n",
        "%matplotlib inline\n",
        "\n",
        "from IPython.display import Image"
      ],
      "metadata": {
        "id": "kE1WygvPQXkZ"
      },
      "execution_count": null,
      "outputs": []
    },
    {
      "cell_type": "code",
      "source": [
        "from google.colab import drive\n",
        "drive.mount('./drive')\n",
        "%cd /content/drive/MyDrive/1º\\ Ano/2º\\ Semestre/Cálculo\\ II"
      ],
      "metadata": {
        "id": "R1P2a1LuG4gn"
      },
      "execution_count": null,
      "outputs": []
    },
    {
      "cell_type": "markdown",
      "source": [
        "# §5.1 ex 11"
      ],
      "metadata": {
        "id": "cx2Vvt3cLBb5"
      }
    },
    {
      "cell_type": "code",
      "execution_count": null,
      "metadata": {
        "id": "eYNCMTwv9Twd"
      },
      "outputs": [],
      "source": [
        "def f(x): return 1/(x**2 + 1)"
      ]
    },
    {
      "cell_type": "markdown",
      "source": [
        "## (a)"
      ],
      "metadata": {
        "id": "mqfo92Q2LKWU"
      }
    },
    {
      "cell_type": "code",
      "source": [
        "n10 = 1/10\n",
        "n30 = 1/30\n",
        "n50 = 1/50\n",
        "\n",
        "n10e = arange(0, 1, n10)\n",
        "n30e = arange(0, 1, n30)\n",
        "n50e = arange(0, 1, n50)\n",
        "\n",
        "n10d = arange(0 + n10, 1 + n10, n10)\n",
        "n30d = arange(0 + n30, 1 + n30, n30)\n",
        "n50d = arange(0 + n50, 1 + n50, n50)\n",
        "\n",
        "print(f\"n = 10:\\tSoma esquerda = {sum(f(n10e)*n10)} \\tSoma direita = {sum(f(n10d)*n10)}\")\n",
        "print(f\"n = 30:\\tSoma esquerda = {sum(f(n30e)*n30)} \\tSoma direita = {sum(f(n30d)*n30)}\")\n",
        "print(f\"n = 50:\\tSoma esquerda = {sum(f(n50e)*n50)} \\tSoma direita = {sum(f(n50d)*n50)}\")"
      ],
      "metadata": {
        "id": "nqcNjAAwJH5N"
      },
      "execution_count": null,
      "outputs": []
    },
    {
      "cell_type": "markdown",
      "source": [
        "## (b)"
      ],
      "metadata": {
        "id": "r2aw3rgqLP5t"
      }
    },
    {
      "cell_type": "markdown",
      "source": [
        "### Gráficos com barras à esquerda:"
      ],
      "metadata": {
        "id": "Wu64s0vdLkvN"
      }
    },
    {
      "cell_type": "code",
      "execution_count": null,
      "metadata": {
        "id": "Q7hLrS0IIwEc"
      },
      "outputs": [],
      "source": [
        "print(\"n = 10:\")\n",
        "size = n10\n",
        "x = arange(0, 1, size)\n",
        "plt.bar(x, f(x), size, color='lightblue', align='edge', edgecolor='black')\n",
        "plt.show()\n",
        "\n",
        "print(\"\\nn = 30:\")\n",
        "size = n30\n",
        "x = arange(0, 1, size)\n",
        "plt.bar(x, f(x), size, color='lightblue', align='edge', edgecolor='black')\n",
        "plt.show()\n",
        "\n",
        "print(\"\\nn = 50:\")\n",
        "size = n50\n",
        "x = arange(0, 1, size)\n",
        "plt.bar(x, f(x), size, color='lightblue', align='edge', edgecolor='black')\n",
        "plt.show()"
      ]
    },
    {
      "cell_type": "markdown",
      "source": [
        "### Gráficos de barras à direita"
      ],
      "metadata": {
        "id": "0tPhGRm7Lucl"
      }
    },
    {
      "cell_type": "code",
      "source": [
        "print(\"n = 10:\")\n",
        "size = n10\n",
        "x = arange(0+size, 1+size, size)\n",
        "plt.bar(x, f(x), -size, color='lavender', align='edge', edgecolor='black')\n",
        "plt.show()\n",
        "\n",
        "print(\"\\nn = 30:\")\n",
        "size = n30\n",
        "x = arange(0+size, 1+size, size)\n",
        "plt.bar(x, f(x), -size, color='lavender', align='edge', edgecolor='black')\n",
        "plt.show()\n",
        "\n",
        "print(\"\\nn = 50:\")\n",
        "size = n50\n",
        "x = arange(0+size, 1+size, size)\n",
        "plt.bar(x, f(x), -size, color='lavender', align='edge', edgecolor='black')\n",
        "plt.show()"
      ],
      "metadata": {
        "id": "DrCbX85zLtiF"
      },
      "execution_count": null,
      "outputs": []
    },
    {
      "cell_type": "markdown",
      "source": [
        "## (c)"
      ],
      "metadata": {
        "id": "nXdUhyDrMYEW"
      }
    },
    {
      "cell_type": "code",
      "source": [
        "print(\"A área exata sob f é dada pela seguinte integral:\")\n",
        "Image(filename='5.1 ex 11 c).jpg', width=600)"
      ],
      "metadata": {
        "id": "5qYuQhXCG8ep"
      },
      "execution_count": null,
      "outputs": []
    },
    {
      "cell_type": "markdown",
      "source": [
        "# §5.2 ex 13"
      ],
      "metadata": {
        "id": "-ggNCVuAQC0n"
      }
    },
    {
      "cell_type": "code",
      "source": [
        "def f(x): return x/(x+1)"
      ],
      "metadata": {
        "id": "chLhdIvrQubV"
      },
      "execution_count": null,
      "outputs": []
    },
    {
      "cell_type": "markdown",
      "source": [
        "## n = 5"
      ],
      "metadata": {
        "id": "fhlmniPOQ4iF"
      }
    },
    {
      "cell_type": "code",
      "source": [
        "n = 2/5\n",
        "\n",
        "ne = arange(0, 2, n)\n",
        "nd = arange(0+n, 2+n, n)\n",
        "nm = (ne + nd)/2\n",
        "\n",
        "print(f\"Pela regra do ponto médio, a área é {sum(f(nm)*n)}\\n\")\n",
        "\n",
        "plt.bar(nm, f(nm), n, color='beige', align='center', edgecolor='black')\n",
        "plt.show()\n"
      ],
      "metadata": {
        "id": "hjQHV-iRRShc"
      },
      "execution_count": null,
      "outputs": []
    },
    {
      "cell_type": "markdown",
      "source": [
        "## n = 10\n"
      ],
      "metadata": {
        "id": "47PcvSolGfXs"
      }
    },
    {
      "cell_type": "code",
      "source": [
        "n = 2/10\n",
        "\n",
        "ne = arange(0, 2, n)\n",
        "nd = arange(0+n, 2+n, n)\n",
        "nm = (ne + nd)/2\n",
        "\n",
        "print(f\"Pela regra do ponto médio, a área é {sum(f(nm)*n)}\\n\")\n",
        "\n",
        "plt.bar(nm, f(nm), n, color='beige', align='center', edgecolor='black')\n",
        "plt.show()\n"
      ],
      "metadata": {
        "id": "UxzTfzCoGmyG"
      },
      "execution_count": null,
      "outputs": []
    },
    {
      "cell_type": "markdown",
      "source": [
        "## n = 20"
      ],
      "metadata": {
        "id": "qhN9-rSTG3ot"
      }
    },
    {
      "cell_type": "code",
      "source": [
        "n = 2/20\n",
        "\n",
        "ne = arange(0, 2, n)\n",
        "nd = arange(0+n, 2+n, n)\n",
        "nm = (ne + nd)/2\n",
        "\n",
        "print(f\"Pela regra do ponto médio, a área é {sum(f(nm)*n)}\\n\")\n",
        "\n",
        "plt.bar(nm, f(nm), n, color='beige', align='center', edgecolor='black')\n",
        "plt.show()\n"
      ],
      "metadata": {
        "id": "KV2yySqyG-G_"
      },
      "execution_count": null,
      "outputs": []
    },
    {
      "cell_type": "markdown",
      "source": [
        "# §11.1 ex 59"
      ],
      "metadata": {
        "id": "g3P9YT1cHEmd"
      }
    },
    {
      "cell_type": "code",
      "source": [
        "def f(x): return sqrt((3+2*x**2)/(8*x**2 + x))\n",
        "\n",
        "x = arange(1, 20)\n",
        "plt.scatter(x, f(x))\n",
        "plt.show()"
      ],
      "metadata": {
        "id": "KIZPJwH_M4M-"
      },
      "execution_count": null,
      "outputs": []
    },
    {
      "cell_type": "code",
      "source": [
        "print(\"Nota-se que a sequência é convergente, e conjecturamos que seu limite é 0,5. Demonstramos o limite da sequência: \")\n",
        "Image(filename=\"11.1 ex 59.jpg\", width=600)"
      ],
      "metadata": {
        "id": "MpKh_8VDHCeA"
      },
      "execution_count": null,
      "outputs": []
    },
    {
      "cell_type": "markdown",
      "source": [
        "# §11.2 ex 76"
      ],
      "metadata": {
        "id": "0VNFMVWDTuqt"
      }
    },
    {
      "cell_type": "code",
      "source": [
        "from scipy import integrate\n",
        "\n",
        "def f(x, n): return x**n\n",
        "\n",
        "x = arange(0, 1, 1/50)\n",
        "\n",
        "soma = 0\n",
        "for n in arange(100):\n",
        "    plt.plot(x, f(x, n))\n",
        "    area = integrate.quad(f, 0, 1, args=(n))[0] - (integrate.quad(f, 0, 1, args=(n+1)))[0]\n",
        "    soma = soma + area\n",
        "\n",
        "plt.show()\n",
        "print(f\"\\nA soma das áreas entre as curvas é {soma}\")"
      ],
      "metadata": {
        "id": "L6MzTfyAWay3"
      },
      "execution_count": null,
      "outputs": []
    },
    {
      "cell_type": "markdown",
      "source": [
        "Se n tender ao infinito, a soma das áreas será 1."
      ],
      "metadata": {
        "id": "kTSD4Z5TGzYQ"
      }
    },
    {
      "cell_type": "markdown",
      "source": [
        "# §11.5 ex 23"
      ],
      "metadata": {
        "id": "5z7VRF1GG75z"
      }
    },
    {
      "cell_type": "code",
      "source": [
        "def f(x): return ((-1)**(x+1))/(x**6)\n",
        "\n",
        "# implementação das somas parciais de uma série\n",
        "soma = 0\n",
        "for n in arange(1, 100):\n",
        "  soma = soma + f(n)\n",
        "  print(f\"S({n}) = {soma}\")"
      ],
      "metadata": {
        "id": "zMHVLqMuHISD"
      },
      "execution_count": null,
      "outputs": []
    },
    {
      "cell_type": "markdown",
      "source": [
        "É possível perceber que, conforme n tende ao infinito, o valor da soma parcial da série tende a um valor específico (0,985551091...). Com isso, conclui-se que a série é convergente."
      ],
      "metadata": {
        "id": "E4Lki9yoJISI"
      }
    },
    {
      "cell_type": "markdown",
      "source": [
        "# §11.11 ex 1"
      ],
      "metadata": {
        "id": "wHhsZUtvLn7O"
      }
    },
    {
      "cell_type": "code",
      "source": [
        "print(\"Séries de Taylor centradas em a= 0 para f(x) = cos x até o grau 6:\")\n",
        "Image(filename=\"11.11 ex 1.jpg\", width=600)"
      ],
      "metadata": {
        "id": "FcAcY0ALHFZx"
      },
      "execution_count": null,
      "outputs": []
    },
    {
      "cell_type": "code",
      "source": [
        "import numpy as np\n",
        "\n",
        "def f(x, n):\n",
        "  res = 0\n",
        "  for i in range(n):\n",
        "    #desconsidera quando n é ímpar\n",
        "    if (i % 2) == 0:\n",
        "      coef = (-1)**(i/2) #alterna o sinal para cada n par\n",
        "      denominador = math.factorial(i)\n",
        "      numerador = x**i\n",
        "      res += coef * (numerador/denominador)\n",
        "  return res\n",
        "\n",
        "x = arange(-2*pi, 2*pi, 0.1)\n",
        "cossenos = np.cos(x)\n",
        "\n",
        "fig, ax = plt.subplots()\n",
        "ax.plot(x, cossenos, color='red', linewidth=2.0)\n",
        "\n",
        "for i in range(1, 8):\n",
        "  cos = [f(ang, i) for ang in x]\n",
        "  plt.plot(x, cos)\n",
        "\n",
        "leg = ['f(x)']\n",
        "for i in range(1,8):\n",
        "    leg.append(f'T{i - 1}')\n",
        "ax.legend(leg, loc=3)\n",
        "\n",
        "ax.set_ylim([-2*pi, 4])\n",
        "plt.show()"
      ],
      "metadata": {
        "id": "iNcs0hijLuXI"
      },
      "execution_count": null,
      "outputs": []
    },
    {
      "cell_type": "code",
      "source": [
        "x = [pi/4, pi/2, pi]\n",
        "\n",
        "for n in arange(1, 8):\n",
        "  for i in arange(3):\n",
        "    print(f\"T{n-1}({x[i]}) = {f(x[i], n)}\")\n",
        "  print(\"\\n\")\n",
        "\n",
        "for i in arange(3):\n",
        "    print(f\"f({x[i]}) = {np.cos(x[i])}\")"
      ],
      "metadata": {
        "id": "AioSuPX-eZrX"
      },
      "execution_count": null,
      "outputs": []
    },
    {
      "cell_type": "markdown",
      "source": [
        "Analisando o gráfico gerado, é possível perceber que as curvas determinadas pelos polinômios de Taylor começam a se aproximar da curva da função *f(x) = cos x*.\n",
        "\n",
        "Além disso, uma análise dos resultados de *f(x)* e de seus polinômios de Taylor para *x = π/4*, *π/2* e *π* revela que quanto maior o grau do polinômio de Taylor, mais próximo ele está de *f(x)*."
      ],
      "metadata": {
        "id": "8lfYBppmftDQ"
      }
    }
  ]
}